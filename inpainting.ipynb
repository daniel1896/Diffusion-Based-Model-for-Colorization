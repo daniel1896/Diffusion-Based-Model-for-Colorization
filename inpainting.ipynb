{
  "nbformat": 4,
  "nbformat_minor": 0,
  "metadata": {
    "colab": {
      "name": "inpainting.ipynb",
      "provenance": []
    },
    "kernelspec": {
      "name": "python3",
      "display_name": "Python 3"
    },
    "language_info": {
      "name": "python"
    }
  },
  "cells": [
    {
      "cell_type": "code",
      "execution_count": 1,
      "metadata": {
        "colab": {
          "base_uri": "https://localhost:8080/"
        },
        "id": "5Zgd8hNVDnOx",
        "outputId": "d01be347-6738-4114-b627-4e1443130351"
      },
      "outputs": [
        {
          "output_type": "stream",
          "name": "stdout",
          "text": [
            "Cloning into 'Diffusion-Based-Model-for-Colorization'...\n",
            "remote: Enumerating objects: 182, done.\u001b[K\n",
            "remote: Counting objects: 100% (109/109), done.\u001b[K\n",
            "remote: Compressing objects: 100% (106/106), done.\u001b[K\n",
            "remote: Total 182 (delta 28), reused 9 (delta 3), pack-reused 73\u001b[K\n",
            "Receiving objects: 100% (182/182), 104.16 MiB | 13.79 MiB/s, done.\n",
            "Resolving deltas: 100% (67/67), done.\n",
            "/content/Diffusion-Based-Model-for-Colorization\n"
          ]
        }
      ],
      "source": [
        "!git clone https://github.com/daniel1896/Diffusion-Based-Model-for-Colorization.git\n",
        "%cd Diffusion-Based-Model-for-Colorization"
      ]
    },
    {
      "cell_type": "code",
      "source": [
        "!python3 main.py"
      ],
      "metadata": {
        "colab": {
          "base_uri": "https://localhost:8080/"
        },
        "id": "iyp3J2qLKiIv",
        "outputId": "cd184ec4-00a7-4328-e0f4-dfa2e851715a"
      },
      "execution_count": 18,
      "outputs": [
        {
          "output_type": "stream",
          "name": "stdout",
          "text": [
            "Config loaded\n",
            "Starting Training\n",
            "Iteration 0 / 1000000.0:   0% 0/2 [00:04<?, ?it/s]tcmalloc: large alloc 16986931200 bytes == 0x562fc55a6000 @  0x7f42a7db0b6b 0x7f42a7dd0379 0x7f41a7575cde 0x7f41a7577452 0x7f41f9827f48 0x7f41f92f27c9 0x7f41f981da9f 0x7f41f981e15e 0x7f41f9819976 0x7f41f981a417 0x7f41f9df62e2 0x7f41f98c2bab 0x7f41fb225dbd 0x7f41fb2266d2 0x7f41f98fec66 0x7f41f939ee70 0x7f41f9e7621a 0x7f41f98e4f8c 0x7f41f9397d9b 0x7f41f9e7617a 0x7f41f98e42a7 0x7f41f939796a 0x7f41f9e76502 0x7f41f9c6dfd6 0x7f42a2c8acef 0x562d80ced4b0 0x562d80ced240 0x562d80d610f3 0x562d80ceeafa 0x562d80d60d00 0x562d80cef039\n",
            "^C\n"
          ]
        }
      ]
    }
  ]
}
